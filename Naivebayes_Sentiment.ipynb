{
  "nbformat": 4,
  "nbformat_minor": 0,
  "metadata": {
    "colab": {
      "provenance": [],
      "gpuType": "T4"
    },
    "kernelspec": {
      "name": "python3",
      "display_name": "Python 3"
    },
    "language_info": {
      "name": "python"
    },
    "accelerator": "GPU"
  },
  "cells": [
    {
      "cell_type": "markdown",
      "source": [
        "**Importing Module**"
      ],
      "metadata": {
        "id": "kx2v9hqmDoe2"
      }
    },
    {
      "cell_type": "code",
      "execution_count": 1,
      "metadata": {
        "id": "sFzS171G4VNV"
      },
      "outputs": [],
      "source": [
        "import numpy as np\n",
        "import tensorflow_datasets as tfds\n",
        "from sklearn.model_selection import train_test_split\n",
        "from sklearn.feature_extraction.text import TfidfVectorizer\n",
        "from sklearn.naive_bayes import MultinomialNB\n",
        "from sklearn.metrics import classification_report, accuracy_score\n",
        "from sklearn.pipeline import Pipeline\n",
        "import joblib\n",
        "import nltk\n",
        "from nltk.corpus import stopwords\n",
        "from nltk.tokenize import word_tokenize\n",
        "import re"
      ]
    },
    {
      "cell_type": "markdown",
      "source": [],
      "metadata": {
        "id": "vJF46NwnD8YX"
      }
    },
    {
      "cell_type": "code",
      "source": [
        "class SentimentAnalyzer:\n",
        "    def __init__(self, max_features=5000, test_size=0.2, random_state=42):\n",
        "        self.max_features = max_features\n",
        "        self.test_size = test_size\n",
        "        self.random_state = random_state\n",
        "        self.pipeline = None\n",
        "        self.stop_words = set(stopwords.words('english'))\n",
        "\n",
        "    def load_data(self):\n",
        "        \"\"\"Load IMDB dataset\"\"\"\n",
        "        print(\"Loading IMDB dataset...\")\n",
        "        dataset, info = tfds.load('imdb_reviews', with_info=True, as_supervised=True)\n",
        "        train_dataset, test_dataset = dataset['train'], dataset['test']\n",
        "\n",
        "        self.X = []\n",
        "        self.y = []\n",
        "\n",
        "        for text, label in train_dataset.concatenate(test_dataset):\n",
        "            self.X.append(text.numpy().decode('utf-8'))\n",
        "            self.y.append(label.numpy())\n",
        "\n",
        "        self.X = np.array(self.X)\n",
        "        self.y = np.array(self.y)\n",
        "\n",
        "        print(f\"Dataset loaded. Shape: {self.X.shape}\")\n",
        "\n",
        "    def preprocess_text(self, text):\n",
        "        \"\"\"Clean and tokenize text\"\"\"\n",
        "        text = text.lower()\n",
        "        text = re.sub(r'[^a-zA-Z\\s]', '', text)\n",
        "        tokens = word_tokenize(text)\n",
        "        tokens = [t for t in tokens if t not in self.stop_words]\n",
        "        return ' '.join(tokens)\n",
        "\n",
        "    def prepare_data(self):\n",
        "        \"\"\"Preprocess and split the data\"\"\"\n",
        "        print(\"Preprocessing data...\")\n",
        "        self.X = [self.preprocess_text(text) for text in self.X]\n",
        "\n",
        "        print(\"Splitting data...\")\n",
        "        self.X_train, self.X_test, self.y_train, self.y_test = train_test_split(\n",
        "            self.X, self.y, test_size=self.test_size, random_state=self.random_state\n",
        "        )\n",
        "\n",
        "    def create_pipeline(self):\n",
        "        \"\"\"Create sklearn pipeline with TfidfVectorizer and MultinomialNB\"\"\"\n",
        "        self.pipeline = Pipeline([\n",
        "            ('tfidf', TfidfVectorizer(max_features=self.max_features)),\n",
        "            ('classifier', MultinomialNB())\n",
        "        ])\n",
        "\n",
        "    def train_model(self):\n",
        "        \"\"\"Train the model\"\"\"\n",
        "        print(\"Training model...\")\n",
        "        self.create_pipeline()\n",
        "        self.pipeline.fit(self.X_train, self.y_train)\n",
        "\n",
        "    def evaluate_model(self):\n",
        "        \"\"\"Evaluate the model\"\"\"\n",
        "        print(\"Evaluating model...\")\n",
        "        y_pred = self.pipeline.predict(self.X_test)\n",
        "        print(classification_report(self.y_test, y_pred))\n",
        "        print(f\"Accuracy: {accuracy_score(self.y_test, y_pred)}\")\n",
        "\n",
        "    def save_model(self, filepath):\n",
        "        \"\"\"Save the trained model\"\"\"\n",
        "        joblib.dump(self.pipeline, filepath)\n",
        "        print(f\"Model saved to {filepath}\")\n",
        "\n",
        "    def load_model(self, filepath):\n",
        "        \"\"\"Load a trained model\"\"\"\n",
        "        self.pipeline = joblib.load(filepath)\n",
        "        print(f\"Model loaded from {filepath}\")\n",
        "\n",
        "    def predict(self, texts):\n",
        "        \"\"\"Perform inference on new texts\"\"\"\n",
        "        processed_texts = [self.preprocess_text(text) for text in texts]\n",
        "        predictions = self.pipeline.predict(processed_texts)\n",
        "        return ['Positive' if pred == 1 else 'Negative' for pred in predictions]\n",
        "\n"
      ],
      "metadata": {
        "id": "dXY20tQFDSlH"
      },
      "execution_count": 3,
      "outputs": []
    },
    {
      "cell_type": "code",
      "source": [
        "import nltk\n",
        "nltk.download('punkt')"
      ],
      "metadata": {
        "colab": {
          "base_uri": "https://localhost:8080/"
        },
        "id": "PizskHj6El6V",
        "outputId": "dbcfe6a6-e360-4393-b16a-86c339f69b68"
      },
      "execution_count": 9,
      "outputs": [
        {
          "output_type": "stream",
          "name": "stderr",
          "text": [
            "[nltk_data] Downloading package punkt to /root/nltk_data...\n",
            "[nltk_data]   Unzipping tokenizers/punkt.zip.\n"
          ]
        },
        {
          "output_type": "execute_result",
          "data": {
            "text/plain": [
              "True"
            ]
          },
          "metadata": {},
          "execution_count": 9
        }
      ]
    },
    {
      "cell_type": "code",
      "source": [
        "def main():\n",
        "    # Initialize SentimentAnalyzer\n",
        "    analyzer = SentimentAnalyzer()\n",
        "\n",
        "    # Load and prepare data\n",
        "    analyzer.load_data()\n",
        "    analyzer.prepare_data()\n",
        "\n",
        "    # Train and evaluate model\n",
        "    analyzer.train_model()\n",
        "    analyzer.evaluate_model()\n",
        "\n",
        "    # Save model\n",
        "    analyzer.save_model('sentiment_model.joblib')\n",
        "\n",
        "    # Load model (in a real scenario, this would be in a separate script)\n",
        "    analyzer.load_model('sentiment_model.joblib')\n",
        "\n",
        "    # Perform inference\n",
        "    new_texts = [\n",
        "        \"This movie was excellent! The acting was superb.\",\n",
        "        \"I didn't enjoy this film at all. The plot was confusing and the characters were poorly developed.\",\n",
        "        \"An average movie. It had its moments but overall it was just okay.\"\n",
        "    ]\n",
        "    predictions = analyzer.predict(new_texts)\n",
        "\n",
        "    print(\"\\nNew predictions:\")\n",
        "    for text, prediction in zip(new_texts, predictions):\n",
        "        print(f\"Text: '{text}'\\nPredicted sentiment: {prediction}\\n\")\n",
        "\n",
        "if __name__ == \"__main__\":\n",
        "    main()"
      ],
      "metadata": {
        "colab": {
          "base_uri": "https://localhost:8080/"
        },
        "id": "NDXnjnR_EeRb",
        "outputId": "20866bc2-9570-49c2-b127-988896a5dd2d"
      },
      "execution_count": 10,
      "outputs": [
        {
          "output_type": "stream",
          "name": "stdout",
          "text": [
            "Loading IMDB dataset...\n",
            "Dataset loaded. Shape: (50000,)\n",
            "Preprocessing data...\n",
            "Splitting data...\n",
            "Training model...\n",
            "Evaluating model...\n",
            "              precision    recall  f1-score   support\n",
            "\n",
            "           0       0.86      0.85      0.85      5020\n",
            "           1       0.85      0.86      0.85      4980\n",
            "\n",
            "    accuracy                           0.85     10000\n",
            "   macro avg       0.85      0.85      0.85     10000\n",
            "weighted avg       0.85      0.85      0.85     10000\n",
            "\n",
            "Accuracy: 0.8536\n",
            "Model saved to sentiment_model.joblib\n",
            "Model loaded from sentiment_model.joblib\n",
            "\n",
            "New predictions:\n",
            "Text: 'This movie was excellent! The acting was superb.'\n",
            "Predicted sentiment: Positive\n",
            "\n",
            "Text: 'I didn't enjoy this film at all. The plot was confusing and the characters were poorly developed.'\n",
            "Predicted sentiment: Negative\n",
            "\n",
            "Text: 'An average movie. It had its moments but overall it was just okay.'\n",
            "Predicted sentiment: Negative\n",
            "\n"
          ]
        }
      ]
    },
    {
      "cell_type": "code",
      "source": [],
      "metadata": {
        "id": "boClzVCLEl89"
      },
      "execution_count": null,
      "outputs": []
    },
    {
      "cell_type": "code",
      "source": [],
      "metadata": {
        "id": "nKnBPZDLEl_t"
      },
      "execution_count": null,
      "outputs": []
    },
    {
      "cell_type": "code",
      "source": [],
      "metadata": {
        "id": "BxjleyHDEmCV"
      },
      "execution_count": null,
      "outputs": []
    }
  ]
}